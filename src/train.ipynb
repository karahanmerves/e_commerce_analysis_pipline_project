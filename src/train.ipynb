{
 "cells": [
  {
   "cell_type": "code",
   "execution_count": 29,
   "metadata": {},
   "outputs": [
    {
     "name": "stdout",
     "output_type": "stream",
     "text": [
      "c:\\Users\\merve\\OneDrive\\Masaüstü\\e_commerce_analysis_pipline_project\n"
     ]
    }
   ],
   "source": [
    "import os\n",
    "print(os.getcwd())  # Çalıştığın dizini gösterir\n"
   ]
  },
  {
   "cell_type": "code",
   "execution_count": 30,
   "metadata": {},
   "outputs": [
    {
     "name": "stdout",
     "output_type": "stream",
     "text": [
      "c:\\Users\\merve\\OneDrive\\Masaüstü\\e_commerce_analysis_pipline_project\n"
     ]
    }
   ],
   "source": [
    "os.chdir(\"/Users/merve/OneDrive/Masaüstü/e_commerce_analysis_pipline_project\")\n",
    "print(os.getcwd())  # Doğru dizine geçtiğini doğrula\n"
   ]
  },
  {
   "cell_type": "code",
   "execution_count": 31,
   "metadata": {},
   "outputs": [
    {
     "name": "stdout",
     "output_type": "stream",
     "text": [
      "Preprocessing tamamlandi!\n",
      "Model Eğitiliyor: RandomForest\n"
     ]
    },
    {
     "name": "stderr",
     "output_type": "stream",
     "text": [
      "2025/02/20 19:07:04 WARNING mlflow.models.model: Model logged without a signature and input example. Please set `input_example` parameter when logging the model to auto infer the model signature.\n"
     ]
    },
    {
     "name": "stdout",
     "output_type": "stream",
     "text": [
      "RandomForest modeli MLflow'a kaydedildi!\n",
      "Model Eğitiliyor: XGBoost\n"
     ]
    },
    {
     "name": "stderr",
     "output_type": "stream",
     "text": [
      "2025/02/20 19:07:08 WARNING mlflow.models.model: Model logged without a signature and input example. Please set `input_example` parameter when logging the model to auto infer the model signature.\n"
     ]
    },
    {
     "name": "stdout",
     "output_type": "stream",
     "text": [
      "XGBoost modeli MLflow'a kaydedildi!\n",
      "Model Eğitiliyor: LinearRegression\n"
     ]
    },
    {
     "name": "stderr",
     "output_type": "stream",
     "text": [
      "2025/02/20 19:07:11 WARNING mlflow.models.model: Model logged without a signature and input example. Please set `input_example` parameter when logging the model to auto infer the model signature.\n"
     ]
    },
    {
     "name": "stdout",
     "output_type": "stream",
     "text": [
      "LinearRegression modeli MLflow'a kaydedildi!\n"
     ]
    }
   ],
   "source": [
    "import pandas as pd\n",
    "import numpy as np\n",
    "from sklearn.model_selection import train_test_split\n",
    "from sklearn.preprocessing import StandardScaler, LabelEncoder\n",
    "import mlflow\n",
    "import mlflow.sklearn\n",
    "from sklearn.ensemble import RandomForestRegressor\n",
    "from xgboost import XGBRegressor\n",
    "from sklearn.linear_model import LinearRegression\n",
    "from sklearn.metrics import mean_absolute_error, mean_squared_error\n",
    "import joblib\n",
    "import yaml\n",
    "\n",
    "def preprocess_data():\n",
    "    # Veriyi yükle\n",
    "    df = pd.read_csv(\"data/raw/sales_data.csv\")  # PostgreSQL'den çekilen e-commerce dataset\n",
    "    \n",
    "    # Eksik verileri temizle\n",
    "    df = df.dropna()\n",
    "    \n",
    "    # Kategorik değişkenleri encode et\n",
    "    categorical_columns = df.select_dtypes(include=['object']).columns\n",
    "    for col in categorical_columns:\n",
    "        df[col] = LabelEncoder().fit_transform(df[col])\n",
    "    \n",
    "    # Feature scaling\n",
    "    numeric_columns = df.select_dtypes(include=['int64', 'float64']).columns\n",
    "    df[numeric_columns] = StandardScaler().fit_transform(df[numeric_columns])\n",
    "    \n",
    "    # Train-test ayrimi\n",
    "    train_data, test_data = train_test_split(df, test_size=0.2, random_state=42)\n",
    "    \n",
    "    # Kaydet\n",
    "    train_data.to_csv(\"data/processed/train_data.csv\", index=False)\n",
    "    test_data.to_csv(\"data/processed/test_data.csv\", index=False)\n",
    "    \n",
    "    print(\"Preprocessing tamamlandi!\")\n",
    "def train_model():\n",
    "    # MLflow başlat\n",
    "    mlflow.set_experiment(\"Ecommerce Sales Prediction\")\n",
    "    \n",
    "    # Parametreleri oku\n",
    "    with open(\"params.yaml\", \"r\") as f:\n",
    "        params = yaml.safe_load(f)[\"train\"]\n",
    "    \n",
    "    # Veri yükle\n",
    "    train_data = pd.read_csv(\"data/processed/train_data.csv\")\n",
    "    X = train_data.drop(columns=[\"quantity\"])  # Özellikler\n",
    "    y = train_data[\"quantity\"]  # Hedef değişken\n",
    "    \n",
    "    models = {\n",
    "        \"RandomForest\": RandomForestRegressor(n_estimators=params[\"rf_n_estimators\"], max_depth=params[\"rf_max_depth\"], random_state=42),\n",
    "        \"XGBoost\": XGBRegressor(learning_rate=params[\"xgboost_learning_rate\"], n_estimators=params[\"xgboost_n_estimators\"], max_depth=params[\"xgboost_max_depth\"], random_state=42),\n",
    "        \"LinearRegression\": LinearRegression()\n",
    "    }\n",
    "    \n",
    "    for model_name, model in models.items():\n",
    "        with mlflow.start_run(run_name=model_name):\n",
    "            print(f\"Model Eğitiliyor: {model_name}\")\n",
    "            \n",
    "            model.fit(X, y)\n",
    "            \n",
    "            # Tahmin yap\n",
    "            y_pred = model.predict(X)\n",
    "            \n",
    "            # Değerlendirme metrikleri\n",
    "            metrics = {\n",
    "                \"mae\": mean_absolute_error(y, y_pred),\n",
    "                \"rmse\": np.sqrt(mean_squared_error(y, y_pred))\n",
    "\n",
    "            }\n",
    "            \n",
    "            # MLflow loglari\n",
    "            mlflow.log_metrics(metrics)\n",
    "            mlflow.sklearn.log_model(model, model_name)\n",
    "            joblib.dump(model, f\"models/{model_name}.pkl\")\n",
    "            \n",
    "            mlflow.end_run()  # MLflow oturumunu kapat\n",
    "            print(f\"{model_name} modeli MLflow'a kaydedildi!\")\n",
    "\n",
    "if __name__ == \"__main__\":\n",
    "    preprocess_data()\n",
    "    train_model()"
   ]
  }
 ],
 "metadata": {
  "kernelspec": {
   "display_name": "Python (myenv)",
   "language": "python",
   "name": "myenv"
  },
  "language_info": {
   "codemirror_mode": {
    "name": "ipython",
    "version": 3
   },
   "file_extension": ".py",
   "mimetype": "text/x-python",
   "name": "python",
   "nbconvert_exporter": "python",
   "pygments_lexer": "ipython3",
   "version": "3.13.2"
  }
 },
 "nbformat": 4,
 "nbformat_minor": 2
}
